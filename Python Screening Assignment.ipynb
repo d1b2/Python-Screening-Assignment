{
 "cells": [
  {
   "cell_type": "markdown",
   "metadata": {},
   "source": [
    "## Python Screening Assignment"
   ]
  },
  {
   "cell_type": "markdown",
   "metadata": {},
   "source": [
    "### Q1 Create a function in python to read the text file and replace specific content of the file."
   ]
  },
  {
   "cell_type": "code",
   "execution_count": 1,
   "metadata": {},
   "outputs": [],
   "source": [
    "f = open(\"example.txt\", \"w\")#creating text file named example.txt\n",
    "f.write(\"This is a placement assignment\") #writing content to file\n",
    "f.close()#closing file"
   ]
  },
  {
   "cell_type": "code",
   "execution_count": 2,
   "metadata": {},
   "outputs": [],
   "source": [
    "#function to replace string in file\n",
    "def replace_string(filename,replace_str,replaced_str):# uses 3 parameters\n",
    "    '''Replace the string value of replace_str with replace_str in filename file \n",
    "        Args:\n",
    "        filename (str): name of file as string value\n",
    "        replace_str (str): string to be replaced\n",
    "        replaced_str (str): string to be replaced with '''\n",
    "    f = open(\"example.txt\", \"r\")#opening file in read mode\n",
    "    l= f.read()#saving contents of file in string variable\n",
    "    print(\"Content of files before replacement are:\\n \",l)#printing contents\n",
    "    l=l.replace(replace_str,replaced_str) # replacing value instring variable\n",
    "    f.close()#closing file\n",
    "    f = open(\"example.txt\", \"w\")#opening file in write mode\n",
    "    f.write(l)# writing the string variable into file\n",
    "    print(\"Content of files after replacement are:\\n \",l) #printing contents again\n",
    "    f.close()#closing file again  "
   ]
  },
  {
   "cell_type": "code",
   "execution_count": 3,
   "metadata": {},
   "outputs": [
    {
     "name": "stdout",
     "output_type": "stream",
     "text": [
      "Content of files before replacement are:\n",
      "  This is a placement assignment\n",
      "Content of files after replacement are:\n",
      "  This is a screening assignment\n"
     ]
    }
   ],
   "source": [
    "replace_string('example.txt','placement','screening')# making callto function"
   ]
  },
  {
   "cell_type": "markdown",
   "metadata": {},
   "source": [
    "### Q2 Demonstrate use of abstract class, multiple inheritance and decorator in python using examples."
   ]
  },
  {
   "cell_type": "markdown",
   "metadata": {},
   "source": [
    "#### 2.1 Abstract class example"
   ]
  },
  {
   "cell_type": "code",
   "execution_count": 4,
   "metadata": {},
   "outputs": [],
   "source": [
    "from abc import ABC,abstractmethod# importing abstract base class,abstract method"
   ]
  },
  {
   "cell_type": "code",
   "execution_count": 5,
   "metadata": {},
   "outputs": [],
   "source": [
    "class Shape(ABC):#creating abstract class\n",
    "    @abstractmethod\n",
    "    def Area(self): #creating functions with abstract method which can be overwritten by child class\n",
    "        pass"
   ]
  },
  {
   "cell_type": "code",
   "execution_count": 6,
   "metadata": {},
   "outputs": [],
   "source": [
    "class Circle(Shape):# creating child class with inherhitence of parent class\n",
    "    def Area(self,r):#creating functions to overwrite values in parent class\n",
    "        return int((3.14*r**2))"
   ]
  },
  {
   "cell_type": "code",
   "execution_count": 7,
   "metadata": {},
   "outputs": [],
   "source": [
    "class Rectangle(Shape):\n",
    "    def Area(self,l,b):\n",
    "        return (l*b)"
   ]
  },
  {
   "cell_type": "code",
   "execution_count": 8,
   "metadata": {},
   "outputs": [
    {
     "ename": "TypeError",
     "evalue": "Can't instantiate abstract class Shape with abstract methods Area",
     "output_type": "error",
     "traceback": [
      "\u001b[1;31m---------------------------------------------------------------------------\u001b[0m",
      "\u001b[1;31mTypeError\u001b[0m                                 Traceback (most recent call last)",
      "\u001b[1;32m<ipython-input-8-41c4ffecb7eb>\u001b[0m in \u001b[0;36m<module>\u001b[1;34m\u001b[0m\n\u001b[1;32m----> 1\u001b[1;33m \u001b[0mshape\u001b[0m\u001b[1;33m=\u001b[0m\u001b[0mShape\u001b[0m\u001b[1;33m(\u001b[0m\u001b[1;33m)\u001b[0m\u001b[1;33m\u001b[0m\u001b[1;33m\u001b[0m\u001b[0m\n\u001b[0m",
      "\u001b[1;31mTypeError\u001b[0m: Can't instantiate abstract class Shape with abstract methods Area"
     ]
    }
   ],
   "source": [
    "shape=Shape()"
   ]
  },
  {
   "cell_type": "code",
   "execution_count": 9,
   "metadata": {},
   "outputs": [
    {
     "name": "stdout",
     "output_type": "stream",
     "text": [
      "Area : 314\n"
     ]
    }
   ],
   "source": [
    "circle=Circle()\n",
    "print(\"Area :\",circle.Area(10))"
   ]
  },
  {
   "cell_type": "code",
   "execution_count": 10,
   "metadata": {},
   "outputs": [
    {
     "name": "stdout",
     "output_type": "stream",
     "text": [
      "Area : 20\n"
     ]
    }
   ],
   "source": [
    "rect=Rectangle()\n",
    "print(\"Area :\",rect.Area(10,2))"
   ]
  },
  {
   "cell_type": "markdown",
   "metadata": {},
   "source": [
    "#### 2.2 Multiple inheritance example"
   ]
  },
  {
   "cell_type": "code",
   "execution_count": 11,
   "metadata": {},
   "outputs": [],
   "source": [
    "class Shape1():# parent class\n",
    "    '''Parent Class'''\n",
    "    def peri(self):\n",
    "        print('Perimeter of any closed shape is summation of length of its boundary')"
   ]
  },
  {
   "cell_type": "code",
   "execution_count": 12,
   "metadata": {},
   "outputs": [],
   "source": [
    "class square(Shape1):#child class\n",
    "    '''Child class of Shape1 parent class'''\n",
    "    def peri(self):\n",
    "        print('Perimeter of Square is 4 X side length')"
   ]
  },
  {
   "cell_type": "code",
   "execution_count": 13,
   "metadata": {},
   "outputs": [],
   "source": [
    "class hexa(Shape1):#child class\n",
    "    '''Child class of Shape1 parent class'''\n",
    "    def peri(self):\n",
    "        print('Perimeter of Regular Hexagon is 6 X side length')"
   ]
  },
  {
   "cell_type": "code",
   "execution_count": 14,
   "metadata": {},
   "outputs": [],
   "source": [
    "class circ(square,hexa):# multiple inherited class\n",
    "    '''Class inherting from squre anc hexa child class of Shape1 parent class'''\n",
    "    def peri(self):\n",
    "        print('Perimeter of Circle is 2 X π X Radius of circle')        "
   ]
  },
  {
   "cell_type": "code",
   "execution_count": 15,
   "metadata": {},
   "outputs": [
    {
     "name": "stdout",
     "output_type": "stream",
     "text": [
      "Perimeter of Circle is 2 X π X Radius of circle\n",
      "Perimeter of Regular Hexagon is 6 X side length\n",
      "Perimeter of Square is 4 X side length\n",
      "Perimeter of any closed shape is summation of length of its boundary\n"
     ]
    }
   ],
   "source": [
    "c=circ() # class object of circ class\n",
    "c.peri() # calling peri function of circ class\n",
    "hexa.peri(c) # calling peri function of hexa class\n",
    "square.peri(c) # calling peri function of Square class\n",
    "Shape1.peri(c) # calling peri function of Shap1 class"
   ]
  },
  {
   "cell_type": "markdown",
   "metadata": {},
   "source": [
    "#### 2.3 Decorator example"
   ]
  },
  {
   "cell_type": "code",
   "execution_count": 16,
   "metadata": {},
   "outputs": [],
   "source": [
    "def decorator(funct):#decorator function taking funct function as argument\n",
    "    '''Decorator function'''\n",
    "    def wrapper():#wrapper function\n",
    "        print('Wrapper Function Execution')\n",
    "        return funct()\n",
    "    return wrapper"
   ]
  },
  {
   "cell_type": "code",
   "execution_count": 17,
   "metadata": {},
   "outputs": [],
   "source": [
    "@decorator\n",
    "def new_funct(): #new_funct function using decorator\n",
    "    print('New function Exection after wrapper function')"
   ]
  },
  {
   "cell_type": "code",
   "execution_count": 18,
   "metadata": {},
   "outputs": [
    {
     "name": "stdout",
     "output_type": "stream",
     "text": [
      "Wrapper Function Execution\n",
      "New function Exection after wrapper function\n"
     ]
    }
   ],
   "source": [
    "new_funct()# calling new_funct function"
   ]
  },
  {
   "cell_type": "code",
   "execution_count": null,
   "metadata": {},
   "outputs": [],
   "source": []
  },
  {
   "cell_type": "code",
   "execution_count": null,
   "metadata": {},
   "outputs": [],
   "source": []
  }
 ],
 "metadata": {
  "kernelspec": {
   "display_name": "Python 3",
   "language": "python",
   "name": "python3"
  },
  "language_info": {
   "codemirror_mode": {
    "name": "ipython",
    "version": 3
   },
   "file_extension": ".py",
   "mimetype": "text/x-python",
   "name": "python",
   "nbconvert_exporter": "python",
   "pygments_lexer": "ipython3",
   "version": "3.7.6"
  }
 },
 "nbformat": 4,
 "nbformat_minor": 4
}
